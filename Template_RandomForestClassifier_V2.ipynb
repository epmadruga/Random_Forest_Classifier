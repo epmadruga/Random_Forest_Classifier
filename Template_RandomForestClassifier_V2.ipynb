{
 "cells": [
  {
   "cell_type": "markdown",
   "id": "ac780550",
   "metadata": {},
   "source": [
    "# Templates"
   ]
  },
  {
   "cell_type": "markdown",
   "id": "13ff53eb",
   "metadata": {},
   "source": [
    "## Random Forest Classifier"
   ]
  },
  {
   "cell_type": "code",
   "execution_count": 27,
   "id": "16bc772c",
   "metadata": {},
   "outputs": [],
   "source": [
    "import pandas as pd\n",
    "import numpy as np\n",
    "from sklearn.ensemble import RandomForestClassifier\n",
    "from sklearn.model_selection import train_test_split\n",
    "from sklearn.model_selection import RepeatedKFold"
   ]
  },
  {
   "cell_type": "code",
   "execution_count": 28,
   "id": "a91bba86",
   "metadata": {},
   "outputs": [
    {
     "name": "stdout",
     "output_type": "stream",
     "text": [
      "Populating the interactive namespace from numpy and matplotlib\n"
     ]
    }
   ],
   "source": [
    "%matplotlib inline\n",
    "%pylab inline"
   ]
  },
  {
   "cell_type": "code",
   "execution_count": 29,
   "id": "1b90bab7",
   "metadata": {},
   "outputs": [],
   "source": [
    "#Carregar Arquivos de treinamento e teste\n",
    "train = pd.read_csv(\"train.csv\") #ARQUIVO TREINO\n",
    "test = pd.read_csv(\"test.csv\")   #ARQUIVO TESTE"
   ]
  },
  {
   "cell_type": "code",
   "execution_count": 32,
   "id": "47383f79",
   "metadata": {},
   "outputs": [],
   "source": [
    "#Ajustando features\n",
    "#Aplica a função em todas as linhas (comando .map):\n",
    "train['Sex_binario'] = train['Sex'].map({'female': 1, 'male': 0}) \n",
    "test['Sex_binario'] = test['Sex'].map({'female': 1, 'male': 0}) "
   ]
  },
  {
   "cell_type": "code",
   "execution_count": 33,
   "id": "0d315dba",
   "metadata": {},
   "outputs": [],
   "source": [
    "#Tratar NaN\n",
    "#Neste caso, por simplificação substituir NaN por -1\n",
    "train = train.fillna(-1)\n",
    "test = test.fillna(-1)"
   ]
  },
  {
   "cell_type": "code",
   "execution_count": 34,
   "id": "d4d94ae9",
   "metadata": {},
   "outputs": [],
   "source": [
    "#Criar variáveis e arquivo entrada e saída:\n",
    "variaveis = ['Sex_binario', 'Age', 'Pclass', 'SibSp', 'Parch', 'Fare']\n",
    "\n",
    "X = train[variaveis].fillna(-1)\n",
    "y = train['Survived']"
   ]
  },
  {
   "cell_type": "markdown",
   "id": "c57f2e38",
   "metadata": {},
   "source": [
    "### Separar Treino e Validação\n",
    "### Split"
   ]
  },
  {
   "cell_type": "code",
   "execution_count": 35,
   "id": "9a8b591a",
   "metadata": {},
   "outputs": [],
   "source": [
    "np.random.seed(1)\n",
    "X_treino, X_valid, y_treino, y_valid = train_test_split(X, y, test_size=0.5)"
   ]
  },
  {
   "cell_type": "code",
   "execution_count": 36,
   "id": "99fb06fe",
   "metadata": {},
   "outputs": [],
   "source": [
    "X_valid.index.name = 'PassengerId'"
   ]
  },
  {
   "cell_type": "code",
   "execution_count": 37,
   "id": "83913114",
   "metadata": {},
   "outputs": [
    {
     "data": {
      "text/plain": [
       "RandomForestClassifier(n_jobs=-1, random_state=0)"
      ]
     },
     "execution_count": 37,
     "metadata": {},
     "output_type": "execute_result"
    }
   ],
   "source": [
    "#Modelo RandomForestClassifier\n",
    "modelo = RandomForestClassifier(n_estimators=100, n_jobs=-1, random_state=0)\n",
    "modelo.fit(X_treino, y_treino)"
   ]
  },
  {
   "cell_type": "code",
   "execution_count": 38,
   "id": "40c50e84",
   "metadata": {},
   "outputs": [
    {
     "data": {
      "text/plain": [
       "array([0, 0, 1, 0, 1, 0, 0, 1, 0, 1, 0, 1, 0, 0, 1, 0, 0, 0, 0, 1, 0, 0,\n",
       "       1, 0, 0, 0, 0, 1, 0, 1, 1, 0, 1, 0, 0, 0, 1, 0, 0, 0, 1, 1, 1, 0,\n",
       "       1, 0, 0, 0, 0, 0, 1, 1, 0, 0, 0, 0, 0, 0, 0, 1, 0, 0, 0, 0, 0, 0,\n",
       "       0, 0, 1, 0, 0, 0, 0, 0, 1, 0, 1, 0, 0, 1, 0, 0, 0, 0, 0, 0, 0, 0,\n",
       "       0, 1, 0, 0, 0, 1, 0, 0, 0, 1, 0, 0, 0, 0, 0, 1, 1, 0, 0, 0, 0, 0,\n",
       "       1, 0, 0, 0, 0, 0, 0, 0, 1, 0, 1, 0, 0, 0, 1, 1, 1, 1, 0, 0, 0, 0,\n",
       "       1, 0, 0, 1, 1, 0, 0, 1, 1, 0, 1, 0, 0, 1, 0, 0, 0, 0, 1, 0, 0, 1,\n",
       "       0, 0, 0, 0, 1, 0, 0, 0, 1, 1, 0, 0, 1, 0, 1, 0, 1, 0, 1, 0, 0, 0,\n",
       "       0, 0, 1, 0, 1, 1, 0, 0, 1, 0, 0, 0, 0, 0, 0, 0, 1, 1, 1, 1, 0, 1,\n",
       "       0, 0, 0, 1, 0, 0, 0, 0, 1, 0, 0, 0, 1, 0, 0, 0, 0, 0, 0, 1, 1, 0,\n",
       "       0, 0, 0, 1, 0, 1, 1, 0, 1, 0, 1, 0, 1, 0, 0, 0, 1, 0, 1, 0, 0, 0,\n",
       "       0, 1, 0, 0, 1, 1, 0, 1, 0, 0, 0, 1, 1, 1, 1, 1, 0, 0, 1, 0, 1, 1,\n",
       "       0, 0, 0, 1, 1, 1, 0, 0, 0, 0, 0, 0, 1, 1, 1, 0, 0, 0, 0, 1, 0, 0,\n",
       "       0, 0, 0, 1, 0, 0, 0, 0, 0, 1, 1, 1, 0, 0, 0, 0, 1, 0, 0, 0, 1, 0,\n",
       "       0, 0, 0, 0, 0, 0, 1, 0, 1, 0, 0, 0, 0, 0, 0, 0, 0, 0, 0, 1, 0, 1,\n",
       "       1, 0, 0, 1, 0, 0, 0, 1, 0, 1, 1, 0, 0, 1, 0, 0, 1, 0, 1, 0, 0, 0,\n",
       "       0, 0, 1, 1, 0, 0, 0, 0, 0, 0, 0, 1, 0, 1, 0, 0, 0, 0, 1, 1, 1, 1,\n",
       "       0, 0, 0, 0, 0, 0, 1, 0, 0, 0, 0, 0, 1, 0, 1, 0, 0, 0, 1, 1, 1, 1,\n",
       "       1, 1, 0, 0, 0, 1, 0, 1, 0, 0, 0, 0, 1, 0, 0, 1, 0, 0, 1, 0, 1, 0,\n",
       "       0, 1, 1, 0, 0, 0, 0, 1, 0, 0, 0, 0, 0, 0, 1, 0, 1, 0, 1, 0, 0, 0,\n",
       "       0, 0, 0, 1, 0, 0], dtype=int64)"
      ]
     },
     "execution_count": 38,
     "metadata": {},
     "output_type": "execute_result"
    }
   ],
   "source": [
    "#Testar modelo\n",
    "p = modelo.predict(X_valid)\n",
    "p"
   ]
  },
  {
   "cell_type": "code",
   "execution_count": 39,
   "id": "ee4e0bd2",
   "metadata": {},
   "outputs": [
    {
     "data": {
      "text/plain": [
       "0.7802690582959642"
      ]
     },
     "execution_count": 39,
     "metadata": {},
     "output_type": "execute_result"
    }
   ],
   "source": [
    "np.mean(y_valid == p)"
   ]
  },
  {
   "cell_type": "markdown",
   "id": "47a66eb6",
   "metadata": {},
   "source": [
    "## Validações Cruzadas"
   ]
  },
  {
   "cell_type": "code",
   "execution_count": 46,
   "id": "3ac6c7d7",
   "metadata": {},
   "outputs": [
    {
     "name": "stdout",
     "output_type": "stream",
     "text": [
      "Treino: 445\n",
      "Valid: 446\n",
      "Acc: 0.7869955156950673\n",
      "\n",
      "Treino: 446\n",
      "Valid: 445\n",
      "Acc: 0.7797752808988764\n",
      "\n",
      "Treino: 445\n",
      "Valid: 446\n",
      "Acc: 0.827354260089686\n",
      "\n",
      "Treino: 446\n",
      "Valid: 445\n",
      "Acc: 0.8179775280898877\n",
      "\n",
      "Treino: 445\n",
      "Valid: 446\n",
      "Acc: 0.7847533632286996\n",
      "\n",
      "Treino: 446\n",
      "Valid: 445\n",
      "Acc: 0.7842696629213484\n",
      "\n",
      "Treino: 445\n",
      "Valid: 446\n",
      "Acc: 0.8161434977578476\n",
      "\n",
      "Treino: 446\n",
      "Valid: 445\n",
      "Acc: 0.7842696629213484\n",
      "\n",
      "Treino: 445\n",
      "Valid: 446\n",
      "Acc: 0.8004484304932735\n",
      "\n",
      "Treino: 446\n",
      "Valid: 445\n",
      "Acc: 0.8\n",
      "\n",
      "Treino: 445\n",
      "Valid: 446\n",
      "Acc: 0.8183856502242153\n",
      "\n",
      "Treino: 446\n",
      "Valid: 445\n",
      "Acc: 0.802247191011236\n",
      "\n",
      "Treino: 445\n",
      "Valid: 446\n",
      "Acc: 0.8116591928251121\n",
      "\n",
      "Treino: 446\n",
      "Valid: 445\n",
      "Acc: 0.8067415730337079\n",
      "\n",
      "Treino: 445\n",
      "Valid: 446\n",
      "Acc: 0.820627802690583\n",
      "\n",
      "Treino: 446\n",
      "Valid: 445\n",
      "Acc: 0.7887640449438202\n",
      "\n",
      "Treino: 445\n",
      "Valid: 446\n",
      "Acc: 0.8385650224215246\n",
      "\n",
      "Treino: 446\n",
      "Valid: 445\n",
      "Acc: 0.8044943820224719\n",
      "\n",
      "Treino: 445\n",
      "Valid: 446\n",
      "Acc: 0.7982062780269058\n",
      "\n",
      "Treino: 446\n",
      "Valid: 445\n",
      "Acc: 0.8112359550561797\n",
      "\n"
     ]
    }
   ],
   "source": [
    "resultados = []\n",
    "kf = RepeatedKFold(n_splits=2, n_repeats=10, random_state=10)\n",
    "\n",
    "for linhas_treino, linhas_valid in kf.split(X):\n",
    "    print(\"Treino:\", linhas_treino.shape[0])\n",
    "    print(\"Valid:\", linhas_valid.shape[0])\n",
    "\n",
    "    X_treino, X_valid = X.iloc[linhas_treino], X.iloc[linhas_valid]\n",
    "    y_treino, y_valid = y.iloc[linhas_treino], y.iloc[linhas_valid]\n",
    "\n",
    "    modelo = RandomForestClassifier(n_estimators=100, n_jobs=-1, random_state=0)\n",
    "    modelo.fit(X_treino, y_treino)\n",
    "\n",
    "    p = modelo.predict(X_valid)\n",
    "\n",
    "    acc = np.mean(y_valid == p)\n",
    "    resultados.append(acc)\n",
    "    print(\"Acc:\", acc)\n",
    "    print()\n",
    "    #print(X_treino.head())\n",
    "    #print()"
   ]
  },
  {
   "cell_type": "code",
   "execution_count": 47,
   "id": "406b8649",
   "metadata": {},
   "outputs": [
    {
     "data": {
      "text/plain": [
       "0.8041457147175896"
      ]
     },
     "execution_count": 47,
     "metadata": {},
     "output_type": "execute_result"
    }
   ],
   "source": [
    "np.mean(resultados)"
   ]
  },
  {
   "cell_type": "code",
   "execution_count": 48,
   "id": "513ddb7f",
   "metadata": {},
   "outputs": [
    {
     "data": {
      "text/plain": [
       "(array([4., 2., 0., 4., 2., 2., 4., 0., 1., 1.]),\n",
       " array([0.77977528, 0.78565426, 0.79153323, 0.7974122 , 0.80329118,\n",
       "        0.80917015, 0.81504913, 0.8209281 , 0.82680707, 0.83268605,\n",
       "        0.83856502]),\n",
       " <BarContainer object of 10 artists>)"
      ]
     },
     "execution_count": 48,
     "metadata": {},
     "output_type": "execute_result"
    },
    {
     "data": {
      "image/png": "[encoded data removed]",
      "text/plain": [
       "<Figure size 432x288 with 1 Axes>"
      ]
     },
     "metadata": {
      "needs_background": "light"
     },
     "output_type": "display_data"
    }
   ],
   "source": [
    "pylab.hist(resultados)"
   ]
  },
  {
   "cell_type": "markdown",
   "id": "a736b0c6",
   "metadata": {},
   "source": [
    "## Arquivo de saída - submissions"
   ]
  },
  {
   "cell_type": "code",
   "execution_count": 43,
   "id": "ae082101",
   "metadata": {
    "scrolled": true
   },
   "outputs": [],
   "source": [
    "#Criando arquivo de submissão Kaggle\n",
    "sub = pd.Series(p, index = X_valid.index, name='Survived')"
   ]
  },
  {
   "cell_type": "code",
   "execution_count": 45,
   "id": "c4e7bba2",
   "metadata": {},
   "outputs": [],
   "source": [
    "sub.to_csv(\"terceiro_modelo.csv\", header=True)"
   ]
  }
 ],
 "metadata": {
  "kernelspec": {
   "display_name": "Python 3 (ipykernel)",
   "language": "python",
   "name": "python3"
  },
  "language_info": {
   "codemirror_mode": {
    "name": "ipython",
    "version": 3
   },
   "file_extension": ".py",
   "mimetype": "text/x-python",
   "name": "python",
   "nbconvert_exporter": "python",
   "pygments_lexer": "ipython3",
   "version": "3.10.1"
  }
 },
 "nbformat": 4,
 "nbformat_minor": 5
}
